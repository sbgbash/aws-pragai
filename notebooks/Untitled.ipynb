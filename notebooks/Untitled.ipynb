{
 "cells": [
  {
   "cell_type": "code",
   "execution_count": 1,
   "metadata": {},
   "outputs": [],
   "source": [
    "#Add root checkout to path\n",
    "import sys\n",
    "sys.path.append(\"..\")\n",
    "import pandas as pd"
   ]
  },
  {
   "cell_type": "code",
   "execution_count": 2,
   "metadata": {},
   "outputs": [],
   "source": [
    "from paws.s3 import (boto_s3_resource, download)\n"
   ]
  },
  {
   "cell_type": "code",
   "execution_count": 5,
   "metadata": {},
   "outputs": [],
   "source": [
    "resource = boto_s3_resource()"
   ]
  },
  {
   "cell_type": "code",
   "execution_count": 6,
   "metadata": {},
   "outputs": [
    {
     "name": "stderr",
     "output_type": "stream",
     "text": [
      "2019-02-25 09:46:27,093 - Paws - INFO - Attempting download: gdelt-open-data,events/1979.csv,1979.csv\n"
     ]
    }
   ],
   "source": [
    "#csv_file = download(resource = resource, \n",
    "#                   bucket = \"gdelt-open-data\",\n",
    "#                   key = \"events/1979.csv\",\n",
    "#                   filename = \"1979.csv\")"
   ]
  },
  {
   "cell_type": "code",
   "execution_count": 7,
   "metadata": {},
   "outputs": [],
   "source": [
    "#Load the file, truncare it and save.\n",
    "# df = pd.read_csv(csv_file, names=range(5))\n",
    "# df = df.head(100)\n",
    "# df.to_csv(csv_file)"
   ]
  },
  {
   "cell_type": "code",
   "execution_count": 8,
   "metadata": {},
   "outputs": [
    {
     "data": {
      "text/html": [
       "<div>\n",
       "<style scoped>\n",
       "    .dataframe tbody tr th:only-of-type {\n",
       "        vertical-align: middle;\n",
       "    }\n",
       "\n",
       "    .dataframe tbody tr th {\n",
       "        vertical-align: top;\n",
       "    }\n",
       "\n",
       "    .dataframe thead th {\n",
       "        text-align: right;\n",
       "    }\n",
       "</style>\n",
       "<table border=\"1\" class=\"dataframe\">\n",
       "  <thead>\n",
       "    <tr style=\"text-align: right;\">\n",
       "      <th></th>\n",
       "      <th>0</th>\n",
       "      <th>1</th>\n",
       "      <th>2</th>\n",
       "      <th>3</th>\n",
       "      <th>4</th>\n",
       "    </tr>\n",
       "  </thead>\n",
       "  <tbody>\n",
       "    <tr>\n",
       "      <th>NaN</th>\n",
       "      <td>0</td>\n",
       "      <td>1</td>\n",
       "      <td>2</td>\n",
       "      <td>3</td>\n",
       "      <td>4</td>\n",
       "    </tr>\n",
       "    <tr>\n",
       "      <th>0.0</th>\n",
       "      <td>0\\t19790101\\t197901\\t1979\\t1979.0027\\t\\t\\t\\t\\t...</td>\n",
       "      <td>NaN</td>\n",
       "      <td>NaN</td>\n",
       "      <td>NaN</td>\n",
       "      <td>NaN</td>\n",
       "    </tr>\n",
       "    <tr>\n",
       "      <th>1.0</th>\n",
       "      <td>1\\t19790101\\t197901\\t1979\\t1979.0027\\t\\t\\t\\t\\t...</td>\n",
       "      <td>NaN</td>\n",
       "      <td>NaN</td>\n",
       "      <td>NaN</td>\n",
       "      <td>NaN</td>\n",
       "    </tr>\n",
       "    <tr>\n",
       "      <th>2.0</th>\n",
       "      <td>2\\t19790101\\t197901\\t1979\\t1979.0027\\t\\t\\t\\t\\t...</td>\n",
       "      <td>NaN</td>\n",
       "      <td>NaN</td>\n",
       "      <td>NaN</td>\n",
       "      <td>NaN</td>\n",
       "    </tr>\n",
       "    <tr>\n",
       "      <th>3.0</th>\n",
       "      <td>3\\t19790101\\t197901\\t1979\\t1979.0027\\t\\t\\t\\t\\t...</td>\n",
       "      <td>Guangxi</td>\n",
       "      <td>China\\tCH\\tCH16\\t23.0036\\t106.359\\t-1903584\\t...</td>\n",
       "      <td>Guangxi</td>\n",
       "      <td>China\\tCH\\tCH16\\t23.0036\\t106.359\\t-1903584\\t...</td>\n",
       "    </tr>\n",
       "  </tbody>\n",
       "</table>\n",
       "</div>"
      ],
      "text/plain": [
       "                                                      0         1  \\\n",
       "NaN                                                   0         1   \n",
       " 0.0  0\\t19790101\\t197901\\t1979\\t1979.0027\\t\\t\\t\\t\\t...       NaN   \n",
       " 1.0  1\\t19790101\\t197901\\t1979\\t1979.0027\\t\\t\\t\\t\\t...       NaN   \n",
       " 2.0  2\\t19790101\\t197901\\t1979\\t1979.0027\\t\\t\\t\\t\\t...       NaN   \n",
       " 3.0  3\\t19790101\\t197901\\t1979\\t1979.0027\\t\\t\\t\\t\\t...   Guangxi   \n",
       "\n",
       "                                                      2         3  \\\n",
       "NaN                                                   2         3   \n",
       " 0.0                                                NaN       NaN   \n",
       " 1.0                                                NaN       NaN   \n",
       " 2.0                                                NaN       NaN   \n",
       " 3.0   China\\tCH\\tCH16\\t23.0036\\t106.359\\t-1903584\\t...   Guangxi   \n",
       "\n",
       "                                                      4  \n",
       "NaN                                                   4  \n",
       " 0.0                                                NaN  \n",
       " 1.0                                                NaN  \n",
       " 2.0                                                NaN  \n",
       " 3.0   China\\tCH\\tCH16\\t23.0036\\t106.359\\t-1903584\\t...  "
      ]
     },
     "execution_count": 8,
     "metadata": {},
     "output_type": "execute_result"
    }
   ],
   "source": [
    "df = pd.read_csv(\"1979.csv\", names=range(5))\n",
    "df.head()"
   ]
  },
  {
   "cell_type": "code",
   "execution_count": 9,
   "metadata": {},
   "outputs": [
    {
     "data": {
      "text/html": [
       "<div>\n",
       "<style scoped>\n",
       "    .dataframe tbody tr th:only-of-type {\n",
       "        vertical-align: middle;\n",
       "    }\n",
       "\n",
       "    .dataframe tbody tr th {\n",
       "        vertical-align: top;\n",
       "    }\n",
       "\n",
       "    .dataframe thead th {\n",
       "        text-align: right;\n",
       "    }\n",
       "</style>\n",
       "<table border=\"1\" class=\"dataframe\">\n",
       "  <thead>\n",
       "    <tr style=\"text-align: right;\">\n",
       "      <th></th>\n",
       "      <th>0</th>\n",
       "      <th>1</th>\n",
       "      <th>2</th>\n",
       "      <th>3</th>\n",
       "      <th>4</th>\n",
       "    </tr>\n",
       "  </thead>\n",
       "  <tbody>\n",
       "    <tr>\n",
       "      <th>count</th>\n",
       "      <td>101</td>\n",
       "      <td>63</td>\n",
       "      <td>63</td>\n",
       "      <td>59</td>\n",
       "      <td>56</td>\n",
       "    </tr>\n",
       "    <tr>\n",
       "      <th>unique</th>\n",
       "      <td>101</td>\n",
       "      <td>34</td>\n",
       "      <td>46</td>\n",
       "      <td>36</td>\n",
       "      <td>37</td>\n",
       "    </tr>\n",
       "    <tr>\n",
       "      <th>top</th>\n",
       "      <td>68\\t19790101\\t197901\\t1979\\t1979.0027\\tCAF\\tCE...</td>\n",
       "      <td>Beijing</td>\n",
       "      <td>United States\\tUS\\tUSDC\\t38.8951\\t-77.0364\\t5...</td>\n",
       "      <td>Beijing</td>\n",
       "      <td>United States\\tUS\\tUSDC\\t38.8951\\t-77.0364\\t5...</td>\n",
       "    </tr>\n",
       "    <tr>\n",
       "      <th>freq</th>\n",
       "      <td>1</td>\n",
       "      <td>6</td>\n",
       "      <td>6</td>\n",
       "      <td>7</td>\n",
       "      <td>7</td>\n",
       "    </tr>\n",
       "  </tbody>\n",
       "</table>\n",
       "</div>"
      ],
      "text/plain": [
       "                                                        0         1  \\\n",
       "count                                                 101        63   \n",
       "unique                                                101        34   \n",
       "top     68\\t19790101\\t197901\\t1979\\t1979.0027\\tCAF\\tCE...   Beijing   \n",
       "freq                                                    1         6   \n",
       "\n",
       "                                                        2         3  \\\n",
       "count                                                  63        59   \n",
       "unique                                                 46        36   \n",
       "top      United States\\tUS\\tUSDC\\t38.8951\\t-77.0364\\t5...   Beijing   \n",
       "freq                                                    6         7   \n",
       "\n",
       "                                                        4  \n",
       "count                                                  56  \n",
       "unique                                                 37  \n",
       "top      United States\\tUS\\tUSDC\\t38.8951\\t-77.0364\\t5...  \n",
       "freq                                                    7  "
      ]
     },
     "execution_count": 9,
     "metadata": {},
     "output_type": "execute_result"
    }
   ],
   "source": [
    "df.describe()"
   ]
  },
  {
   "cell_type": "code",
   "execution_count": null,
   "metadata": {},
   "outputs": [],
   "source": []
  }
 ],
 "metadata": {
  "kernelspec": {
   "display_name": "Python 3",
   "language": "python",
   "name": "python3"
  },
  "language_info": {
   "codemirror_mode": {
    "name": "ipython",
    "version": 3
   },
   "file_extension": ".py",
   "mimetype": "text/x-python",
   "name": "python",
   "nbconvert_exporter": "python",
   "pygments_lexer": "ipython3",
   "version": "3.7.2"
  }
 },
 "nbformat": 4,
 "nbformat_minor": 2
}
